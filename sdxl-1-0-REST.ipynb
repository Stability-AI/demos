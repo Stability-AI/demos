{
 "cells": [
  {
   "cell_type": "markdown",
   "id": "30d8ea02-09c1-4c07-b6c6-e5651151043d",
   "metadata": {},
   "source": [
    "# <a id='toc1_'></a>[Realtime Inference with SDXL 1.0](#toc0_)\n",
    "### For AWS GenAI day September 11th 2023\n",
    "\n",
    "This sample notebook showcases some functionality of Stability's SDXL.\n",
    "\n",
    " [Stability SDK documentation](https://api.stability.ai/docs#tag/v1generation)\n",
    "\n",
    "  \n",
    "- [1. Set up your Credentials](#toc3_)    \n",
    "- [2: Perform real-time inference](#toc4_)    \n",
    "  - [A: Text to image](#toc4_1_) \n",
    "  - [B: Style presets](#toc4_2_)    \n",
    "  - [C: Render text](#toc4_3_)  \n",
    "  - [D: Image to image](#toc4_4_) \n",
    "  - [E: Image to image](#toc4_5_)    \n",
    "\n"
   ]
  },
  {
   "cell_type": "markdown",
   "id": "182eacd1-5176-4057-b756-ca7dd719d603",
   "metadata": {},
   "source": [
    "This notebook uses the Stability REST API to generate images\n",
    "\n",
    "First: \n",
    "```\n",
    "$ git clone git@github.com:Stability-AI/demos.git\n",
    "$ cd demos\n",
    "```\n",
    "\n",
    "\n",
    "# 1. Set up your credentials\n",
    "\n",
    "We'll use a temporary API key for the demo. This is available at the URL to be shared in the demo.\n",
    "\n"
   ]
  },
  {
   "cell_type": "code",
   "execution_count": null,
   "id": "eb61cde6-cd8f-49c9-ab61-6516f1129b2a",
   "metadata": {
    "tags": []
   },
   "outputs": [],
   "source": [
    "!pip install requests\n",
    "!pip install pillow\n",
    "\n",
    "import base64\n",
    "import os\n",
    "import io\n",
    "import requests\n",
    "from PIL import Image\n",
    "\n",
    "engine_id = \"stable-diffusion-xl-1024-v1-0\"\n",
    "api_host = \"https://staging-api.stability.ai\"   # We will use the staging API for this demo. The production API omits 'staging-' from the host name\n",
    "api_key = <<<SEE URL>>>"
   ]
  },
  {
   "cell_type": "markdown",
   "id": "c6053cf7-cb11-466d-9fb8-6985c60bdb09",
   "metadata": {},
   "source": [
    "# <a id='toc4_'></a> Perform realtime inference\n",
    "\n",
    "## <a id='toc4_1_'></a>[A: Text to image](#toc0_)\n",
    "\n",
    "We'll start by running a generation request. For the full list of parameters, [see the Stability.ai SDK documentation.](https://api.stability.ai/docs#tag/v1generation)\n",
    "\n"
   ]
  },
  {
   "cell_type": "code",
   "execution_count": null,
   "id": "30383959-3490-4283-be0b-8c99d0a39a0c",
   "metadata": {
    "tags": []
   },
   "outputs": [],
   "source": [
    "response = requests.post(\n",
    "    f\"{api_host}/v1/generation/{engine_id}/text-to-image\",\n",
    "    headers={\n",
    "        \"Content-Type\": \"application/json\",\n",
    "        \"Accept\": \"application/json\",\n",
    "        \"Authorization\": f\"Bearer {api_key}\"\n",
    "    },\n",
    "    json={\n",
    "    \"text_prompts\": [\n",
    "        {\n",
    "            \"text\": \"jaguar in the Amazon rainforest\"\n",
    "        }\n",
    "    ],\n",
    "        \"seed\": 12345,\n",
    "\n",
    "    },\n",
    ")"
   ]
  },
  {
   "cell_type": "markdown",
   "id": "c7893d0d-3e41-4ce9-a3f8-7afdc7fe5a30",
   "metadata": {},
   "source": [
    "Output images are included in the response's `artifacts` as base64 encoded strings. Below is a helper function for accessing decoding these images:"
   ]
  },
  {
   "cell_type": "code",
   "execution_count": null,
   "id": "b4bdaa32-afa1-4c08-9568-07a2c916ba43",
   "metadata": {
    "tags": []
   },
   "outputs": [],
   "source": [
    "def decode_and_show(model_response: requests.models.Response) -> None:\n",
    "    \"\"\"\n",
    "    Decodes and displays an image from SDXL output\n",
    "\n",
    "    Args:\n",
    "        model_response (GenerationResponse): The response object from the deployed SDXL model.\n",
    "\n",
    "    Returns:\n",
    "        None\n",
    "    \"\"\"\n",
    "    # image = model_response.artifacts[0].base64\n",
    "    data = model_response.json()\n",
    "    for i, image in enumerate(data[\"artifacts\"]):\n",
    "        image_data = base64.b64decode(image[\"base64\"])\n",
    "        image = Image.open(io.BytesIO(image_data))\n",
    "        display(image)\n",
    "\n",
    "decode_and_show(response)\n",
    "\n"
   ]
  },
  {
   "cell_type": "code",
   "execution_count": null,
   "id": "5566f9ea-0772-4c5a-8415-3f42d5062839",
   "metadata": {
    "tags": []
   },
   "outputs": [],
   "source": [
    "response = requests.post(\n",
    "    f\"{api_host}/v1/generation/{engine_id}/text-to-image\",\n",
    "    headers={\n",
    "        \"Content-Type\": \"application/json\",\n",
    "        \"Accept\": \"application/json\",\n",
    "        \"Authorization\": f\"Bearer {api_key}\"\n",
    "    },\n",
    "    json={\n",
    "    \"text_prompts\": [\n",
    "        {\n",
    "            \"text\": \"cosy photograph, taken from inside of a tent with view of misty Scottish highlands at dawn\"\n",
    "        }\n",
    "    ],\n",
    "        \"seed\": 12345,\n",
    "\n",
    "    },\n",
    ")\n",
    "\n",
    "decode_and_show(response)"
   ]
  },
  {
   "cell_type": "markdown",
   "id": "ba368cab-52e8-47b0-a767-1cf57fafca25",
   "metadata": {},
   "source": [
    "Now let's experiment with a different image resolution. SDXL supports a fixed set of resolutions, that include formats suitable for webpage banners, portraits and other assets.\n",
    "\n",
    "The requested (height, width) should be one of (1024, 1024), (1152, 896), (896, 1152), (1216, 832), (832, 1216), (1344, 768), (768, 1344), (1536, 640), (640, 1536)."
   ]
  },
  {
   "cell_type": "code",
   "execution_count": null,
   "id": "4b249c4c",
   "metadata": {
    "tags": []
   },
   "outputs": [],
   "source": [
    "text = \"photograph of latte art of a cat\"\n",
    "\n",
    "response = requests.post(\n",
    "    f\"{api_host}/v1/generation/{engine_id}/text-to-image\",\n",
    "    headers={\n",
    "        \"Content-Type\": \"application/json\",\n",
    "        \"Accept\": \"application/json\",\n",
    "        \"Authorization\": f\"Bearer {api_key}\"\n",
    "    },\n",
    "    json={\n",
    "    \"text_prompts\": [\n",
    "        {\n",
    "            \"text\": text\n",
    "        }\n",
    "    ],\n",
    "        \"seed\": 5,\n",
    "        \"height\": 640,\n",
    "        \"width\": 1536\n",
    "\n",
    "    },\n",
    ")\n",
    "\n",
    "decode_and_show(response)"
   ]
  },
  {
   "cell_type": "markdown",
   "id": "84a65323-d2aa-4e5a-97d5-f25643f194d4",
   "metadata": {},
   "source": [
    "## <a id='toc4_2_'></a>[B: Style presets](#toc0_)\n",
    "\n",
    "Let's try passing in a `style_preset`. \n",
    "\n",
    "The available style presets are:\n",
    "\n",
    "`3d-model`, `analog-film`, `anime`, `cinematic`, `comic-book`, `digital-art`, `enhance`, `fantasy-art`, `isometric`, `line-art`, `low-poly`, `modeling-compound`, `neon-punk`, `origami`, `photographic`, `pixel-art`, `tile-texture`.\n",
    "\n"
   ]
  },
  {
   "cell_type": "code",
   "execution_count": null,
   "id": "fa3c5a1f-773b-4e2c-b7f4-f08158902ebd",
   "metadata": {
    "tags": []
   },
   "outputs": [],
   "source": [
    "# origami preset\n",
    "\n",
    "response = requests.post(\n",
    "    f\"{api_host}/v1/generation/{engine_id}/text-to-image\",\n",
    "    headers={\n",
    "        \"Content-Type\": \"application/json\",\n",
    "        \"Accept\": \"application/json\",\n",
    "        \"Authorization\": f\"Bearer {api_key}\"\n",
    "    },\n",
    "    json={\n",
    "    \"text_prompts\": [\n",
    "        {\n",
    "            \"text\": \"teapot\"\n",
    "        }\n",
    "    ],\n",
    "        \"seed\": 7,\n",
    "        \"height\": 1024,\n",
    "        \"width\": 1024,\n",
    "        \"style_preset\": \"origami\"\n",
    "\n",
    "    },\n",
    ")\n",
    "\n",
    "\n",
    "decode_and_show(response)\n"
   ]
  },
  {
   "cell_type": "code",
   "execution_count": null,
   "id": "3250fe4c-0e79-474f-96ce-89f07d41f4f7",
   "metadata": {
    "tags": []
   },
   "outputs": [],
   "source": [
    "# analogue film preset\n",
    "\n",
    "response = requests.post(\n",
    "    f\"{api_host}/v1/generation/{engine_id}/text-to-image\",\n",
    "    headers={\n",
    "        \"Content-Type\": \"application/json\",\n",
    "        \"Accept\": \"application/json\",\n",
    "        \"Authorization\": f\"Bearer {api_key}\"\n",
    "    },\n",
    "    json={\n",
    "    \"text_prompts\": [\n",
    "        {\n",
    "            \"text\": \"teapot\"\n",
    "        }\n",
    "    ],\n",
    "        \"seed\": 7,\n",
    "        \"height\": 1024,\n",
    "        \"width\": 1024,\n",
    "        \"style_preset\": \"analog-film\"\n",
    "\n",
    "    },\n",
    ")\n",
    "\n",
    "\n",
    "decode_and_show(response)"
   ]
  },
  {
   "cell_type": "markdown",
   "id": "72cd2df0",
   "metadata": {},
   "source": [
    "## <a id='toc4_3_'></a>[C: Render Text](#toc0_)\n",
    "\n",
    "\n",
    "SDXL can render short snippets of text, like single words. Let's try an example below."
   ]
  },
  {
   "cell_type": "code",
   "execution_count": null,
   "id": "3f1ea1a5-ea92-4b3b-9179-2bda376f3342",
   "metadata": {
    "tags": []
   },
   "outputs": [],
   "source": [
    "text = \"a sign that says go\"\n",
    "\n",
    "response = requests.post(\n",
    "    f\"{api_host}/v1/generation/{engine_id}/text-to-image\",\n",
    "    headers={\n",
    "        \"Content-Type\": \"application/json\",\n",
    "        \"Accept\": \"application/json\",\n",
    "        \"Authorization\": f\"Bearer {api_key}\"\n",
    "    },\n",
    "    json={\n",
    "    \"text_prompts\": [\n",
    "        {\n",
    "            \"text\": text\n",
    "        }\n",
    "    ],\n",
    "        \"seed\": 191,\n",
    "        \"height\": 1024,\n",
    "        \"width\": 1024,\n",
    "        \"style_preset\": \"neon-punk\",\n",
    "        \"cfg_scale\": 10\n",
    "\n",
    "    },\n",
    ")\n",
    "\n",
    "\n",
    "decode_and_show(response)"
   ]
  },
  {
   "cell_type": "code",
   "execution_count": null,
   "id": "ff43d4d2-e8d9-4e06-9af4-edf74e502769",
   "metadata": {
    "tags": []
   },
   "outputs": [],
   "source": [
    "text = \"a dusty roadsign that says FUTURE\"\n",
    "\n",
    "response = requests.post(\n",
    "    f\"{api_host}/v1/generation/{engine_id}/text-to-image\",\n",
    "    headers={\n",
    "        \"Content-Type\": \"application/json\",\n",
    "        \"Accept\": \"application/json\",\n",
    "        \"Authorization\": f\"Bearer {api_key}\"\n",
    "    },\n",
    "    json={\n",
    "    \"text_prompts\": [\n",
    "        {\n",
    "            \"text\": text\n",
    "        }\n",
    "    ],\n",
    "        \"seed\": 11,\n",
    "        \"height\": 1024,\n",
    "        \"width\": 1024,\n",
    "        \"style_preset\": \"cinematic\",\n",
    "        \"cfg_scale\": 10\n",
    "\n",
    "    },\n",
    ")\n",
    "\n",
    "\n",
    "decode_and_show(response)"
   ]
  },
  {
   "cell_type": "code",
   "execution_count": null,
   "id": "e57f7a9f-c135-407c-a11f-a0c090dee7d3",
   "metadata": {
    "tags": []
   },
   "outputs": [],
   "source": [
    "text = \"a 1950s billboard that says DREAM\"\n",
    "\n",
    "response = requests.post(\n",
    "    f\"{api_host}/v1/generation/{engine_id}/text-to-image\",\n",
    "    headers={\n",
    "        \"Content-Type\": \"application/json\",\n",
    "        \"Accept\": \"application/json\",\n",
    "        \"Authorization\": f\"Bearer {api_key}\"\n",
    "    },\n",
    "    json={\n",
    "    \"text_prompts\": [\n",
    "        {\n",
    "            \"text\": text\n",
    "        }\n",
    "    ],\n",
    "        \"seed\": 11,\n",
    "        \"height\": 1024,\n",
    "        \"width\": 1024,\n",
    "        \"style_preset\": \"analog-film\",\n",
    "        \"cfg_scale\": 10\n",
    "\n",
    "    },\n",
    ")\n",
    "\n",
    "\n",
    "decode_and_show(response)"
   ]
  },
  {
   "cell_type": "markdown",
   "id": "bea26852-547f-493d-913c-ebc5a363fee6",
   "metadata": {
    "tags": []
   },
   "source": [
    "## <a id='toc4_4_'></a>[D: Image to image](#toc0_)\n",
    "\n",
    "To perform inference that takes an image as input, you must pass the image into `init_image`.\n",
    "\n",
    "For the REST API, images don't need to be encoded: just submit the file.\n",
    "\n",
    "Like output images, input images must be one of the supported resolutions: i.e. (height, width) should be one of (1024, 1024), (1152, 896), (896, 1152), (1216, 832), (832, 1216), (1344, 768), (768, 1344), (1536, 640), (640, 1536).\n",
    "\n",
    "We set `image_strength` to weight the relative importance of the image and the prompt. For the demo, we'll use a [picture of the cat, taken from Wikimedia Commons](https://commons.wikimedia.org/wiki/File:Cat_August_2010-4.jpg), provided along with this notebook."
   ]
  },
  {
   "cell_type": "code",
   "execution_count": null,
   "id": "9db2a91c-bd37-44ff-8f32-37114e00f581",
   "metadata": {
    "tags": []
   },
   "outputs": [],
   "source": [
    "! wget https://platform.stability.ai/Cat_August_2010-4.jpg"
   ]
  },
  {
   "cell_type": "code",
   "execution_count": null,
   "id": "5a41d382-b282-4667-9ad6-0a59a133c298",
   "metadata": {
    "tags": []
   },
   "outputs": [],
   "source": [
    "# We will resize this image via cropping, so that it meets the model's requirements on resolution.\n",
    "\n",
    "im = Image.open('Cat_August_2010-4.jpg')\n",
    "im1 = im.resize((1344, 768), Image.Resampling.LANCZOS)\n",
    "im1.save(\"cat_resized.jpg\")\n",
    "\n",
    "im1"
   ]
  },
  {
   "cell_type": "markdown",
   "id": "b4f89a64-0e3d-4990-87b0-d32b7dbb7060",
   "metadata": {},
   "source": [
    "The `image_strength` parameter is a float that determines the relative weighting of the image prompt against the text prompt.\n",
    "\n",
    "For image-to-image generation, try turning the `image_strength` up. In the example below, compare `image_strength`s 0.3 and 0.9.\n",
    "\n",
    "At 0.9, the image has lost the sense of 'embroidery', and renders an image that is very close to the input image. 0.7 gives a better balance."
   ]
  },
  {
   "cell_type": "code",
   "execution_count": null,
   "id": "ec7179a1-7a92-4aa0-8bd7-7bf0f9bcb9e8",
   "metadata": {
    "tags": []
   },
   "outputs": [],
   "source": [
    "# image strength 0.3 \n",
    "\n",
    "cat_path = \"cat_resized.jpg\"\n",
    "\n",
    "response = requests.post(\n",
    "    f\"{api_host}/v1/generation/{engine_id}/image-to-image\",  # Note that the engine-id has changed\n",
    "    headers={\n",
    "        \"Accept\": \"application/json\",\n",
    "        \"Authorization\": f\"Bearer {api_key}\"\n",
    "    },\n",
    "    files={\n",
    "        \"init_image\": open(cat_path, \"rb\")\n",
    "    },\n",
    "    data={\n",
    "        \"image_strength\": 0.3,\n",
    "        # \"init_image_mode\": \"IMAGE_STRENGTH\",\n",
    "        \"text_prompts[0][text]\": \"cat in embroidery\",\n",
    "        \"cfg_scale\": 7,\n",
    "        \"samples\": 1,\n",
    "        \"steps\": 30,\n",
    "        \"seed\": 44\n",
    "    }\n",
    ")\n",
    "\n",
    "decode_and_show(response)"
   ]
  },
  {
   "cell_type": "code",
   "execution_count": null,
   "id": "7e1683f1-1770-4ad6-9e06-a96442c81528",
   "metadata": {
    "tags": []
   },
   "outputs": [],
   "source": [
    "# image strength 0.9\n",
    "\n",
    "cat_path = \"cat_resized.jpg\"\n",
    "\n",
    "response = requests.post(\n",
    "    f\"{api_host}/v1/generation/{engine_id}/image-to-image\",  # Note that the engine-id has changed\n",
    "    headers={\n",
    "        \"Accept\": \"application/json\",\n",
    "        \"Authorization\": f\"Bearer {api_key}\"\n",
    "    },\n",
    "    files={\n",
    "        \"init_image\": open(cat_path, \"rb\")\n",
    "    },\n",
    "    data={\n",
    "        \"image_strength\": 0.9,\n",
    "        \"init_image_mode\": \"IMAGE_STRENGTH\",\n",
    "        \"text_prompts[0][text]\": \"cat in embroidery\",\n",
    "        \"cfg_scale\": 7,\n",
    "        \"samples\": 1,\n",
    "        \"steps\": 30,\n",
    "        \"seed\": 44\n",
    "    }\n",
    ")\n",
    "\n",
    "decode_and_show(response)"
   ]
  },
  {
   "cell_type": "markdown",
   "id": "2fe70713-aae8-4802-80ed-ad3249e3078b",
   "metadata": {},
   "source": [
    "## <a id='toc4_5_'></a>[E: Inpainting](#toc0_)\n",
    "\n",
    "Inpainting is a powerful image-to-image technique that allows you to selectively edit and re-generate portions of an image.\n",
    "\n",
    "Indicate the regions you want to update using masking.\n",
    "\n",
    "Let's start with an image and mask off a section.\n",
    "\n",
    "Here is a woman wearing a scarf. Let's update the colour and texture of the scarf."
   ]
  },
  {
   "cell_type": "code",
   "execution_count": null,
   "id": "5a31ffa1-dd44-4e66-87b0-61538577cac1",
   "metadata": {
    "tags": []
   },
   "outputs": [],
   "source": [
    "! wget https://platform.stability.ai/scarf_input.jpg\n",
    "! wget https://platform.stability.ai/scarf_mask_only_bw.png\n",
    "\n",
    "display(Image.open('scarf_input.jpg'))\n",
    "# display(Image.open('scarf_mask_only_bw.png').convert('RGB'))"
   ]
  },
  {
   "cell_type": "markdown",
   "id": "8946f835-599a-43ff-a3e6-be4f70113b96",
   "metadata": {},
   "source": [
    "To perform inpainting, you submit two input images: the image to be updated, and the mask indicating the areas to revise."
   ]
  },
  {
   "cell_type": "code",
   "execution_count": null,
   "id": "b1e40d94",
   "metadata": {},
   "outputs": [],
   "source": [
    "response = requests.post(\n",
    "    f\"{api_host}/v1/generation/{engine_id}/image-to-image/masking\",\n",
    "    headers={\n",
    "        \"Accept\": 'application/json',\n",
    "        \"Authorization\": f\"Bearer {api_key}\"\n",
    "    },\n",
    "    files={\n",
    "        \"init_image\": open(\"scarf_input.jpg\", \"rb\"),\n",
    "         \"mask_image\": open(\"scarf_mask_only_bw.png\", \"rb\")\n",
    "    },\n",
    "    data={\n",
    "        \"mask_source\": \"MASK_IMAGE_WHITE\",\n",
    "        \"text_prompts[0][text]\": \"A woman wearing a hand-knitted, yellow woolly scarf\",\n",
    "        \"cfg_scale\": 7,\n",
    "        \"samples\": 1,\n",
    "        \"steps\": 30,\n",
    "        \"seed\": 81\n",
    "    }\n",
    ")\n",
    "\n",
    "decode_and_show(response)"
   ]
  },
  {
   "cell_type": "markdown",
   "id": "4c746ba8-111e-4f4b-a4d8-b89909dbf1d7",
   "metadata": {},
   "source": [
    "# Next steps\n",
    "\n",
    "If you are an AWS user, consider deploying SDXL in your own VPC using AWS Jumpstart: https://aws.amazon.com/blogs/machine-learning/use-stable-diffusion-xl-with-amazon-sagemaker-jumpstart-in-amazon-sagemaker-studio/\n",
    "\n",
    "From September 29th 2023, Use SDXL directly on AWS Bedrock."
   ]
  }
 ],
 "metadata": {
  "availableInstances": [
   {
    "_defaultOrder": 0,
    "_isFastLaunch": true,
    "category": "General purpose",
    "gpuNum": 0,
    "hideHardwareSpecs": false,
    "memoryGiB": 4,
    "name": "ml.t3.medium",
    "vcpuNum": 2
   },
   {
    "_defaultOrder": 1,
    "_isFastLaunch": false,
    "category": "General purpose",
    "gpuNum": 0,
    "hideHardwareSpecs": false,
    "memoryGiB": 8,
    "name": "ml.t3.large",
    "vcpuNum": 2
   },
   {
    "_defaultOrder": 2,
    "_isFastLaunch": false,
    "category": "General purpose",
    "gpuNum": 0,
    "hideHardwareSpecs": false,
    "memoryGiB": 16,
    "name": "ml.t3.xlarge",
    "vcpuNum": 4
   },
   {
    "_defaultOrder": 3,
    "_isFastLaunch": false,
    "category": "General purpose",
    "gpuNum": 0,
    "hideHardwareSpecs": false,
    "memoryGiB": 32,
    "name": "ml.t3.2xlarge",
    "vcpuNum": 8
   },
   {
    "_defaultOrder": 4,
    "_isFastLaunch": true,
    "category": "General purpose",
    "gpuNum": 0,
    "hideHardwareSpecs": false,
    "memoryGiB": 8,
    "name": "ml.m5.large",
    "vcpuNum": 2
   },
   {
    "_defaultOrder": 5,
    "_isFastLaunch": false,
    "category": "General purpose",
    "gpuNum": 0,
    "hideHardwareSpecs": false,
    "memoryGiB": 16,
    "name": "ml.m5.xlarge",
    "vcpuNum": 4
   },
   {
    "_defaultOrder": 6,
    "_isFastLaunch": false,
    "category": "General purpose",
    "gpuNum": 0,
    "hideHardwareSpecs": false,
    "memoryGiB": 32,
    "name": "ml.m5.2xlarge",
    "vcpuNum": 8
   },
   {
    "_defaultOrder": 7,
    "_isFastLaunch": false,
    "category": "General purpose",
    "gpuNum": 0,
    "hideHardwareSpecs": false,
    "memoryGiB": 64,
    "name": "ml.m5.4xlarge",
    "vcpuNum": 16
   },
   {
    "_defaultOrder": 8,
    "_isFastLaunch": false,
    "category": "General purpose",
    "gpuNum": 0,
    "hideHardwareSpecs": false,
    "memoryGiB": 128,
    "name": "ml.m5.8xlarge",
    "vcpuNum": 32
   },
   {
    "_defaultOrder": 9,
    "_isFastLaunch": false,
    "category": "General purpose",
    "gpuNum": 0,
    "hideHardwareSpecs": false,
    "memoryGiB": 192,
    "name": "ml.m5.12xlarge",
    "vcpuNum": 48
   },
   {
    "_defaultOrder": 10,
    "_isFastLaunch": false,
    "category": "General purpose",
    "gpuNum": 0,
    "hideHardwareSpecs": false,
    "memoryGiB": 256,
    "name": "ml.m5.16xlarge",
    "vcpuNum": 64
   },
   {
    "_defaultOrder": 11,
    "_isFastLaunch": false,
    "category": "General purpose",
    "gpuNum": 0,
    "hideHardwareSpecs": false,
    "memoryGiB": 384,
    "name": "ml.m5.24xlarge",
    "vcpuNum": 96
   },
   {
    "_defaultOrder": 12,
    "_isFastLaunch": false,
    "category": "General purpose",
    "gpuNum": 0,
    "hideHardwareSpecs": false,
    "memoryGiB": 8,
    "name": "ml.m5d.large",
    "vcpuNum": 2
   },
   {
    "_defaultOrder": 13,
    "_isFastLaunch": false,
    "category": "General purpose",
    "gpuNum": 0,
    "hideHardwareSpecs": false,
    "memoryGiB": 16,
    "name": "ml.m5d.xlarge",
    "vcpuNum": 4
   },
   {
    "_defaultOrder": 14,
    "_isFastLaunch": false,
    "category": "General purpose",
    "gpuNum": 0,
    "hideHardwareSpecs": false,
    "memoryGiB": 32,
    "name": "ml.m5d.2xlarge",
    "vcpuNum": 8
   },
   {
    "_defaultOrder": 15,
    "_isFastLaunch": false,
    "category": "General purpose",
    "gpuNum": 0,
    "hideHardwareSpecs": false,
    "memoryGiB": 64,
    "name": "ml.m5d.4xlarge",
    "vcpuNum": 16
   },
   {
    "_defaultOrder": 16,
    "_isFastLaunch": false,
    "category": "General purpose",
    "gpuNum": 0,
    "hideHardwareSpecs": false,
    "memoryGiB": 128,
    "name": "ml.m5d.8xlarge",
    "vcpuNum": 32
   },
   {
    "_defaultOrder": 17,
    "_isFastLaunch": false,
    "category": "General purpose",
    "gpuNum": 0,
    "hideHardwareSpecs": false,
    "memoryGiB": 192,
    "name": "ml.m5d.12xlarge",
    "vcpuNum": 48
   },
   {
    "_defaultOrder": 18,
    "_isFastLaunch": false,
    "category": "General purpose",
    "gpuNum": 0,
    "hideHardwareSpecs": false,
    "memoryGiB": 256,
    "name": "ml.m5d.16xlarge",
    "vcpuNum": 64
   },
   {
    "_defaultOrder": 19,
    "_isFastLaunch": false,
    "category": "General purpose",
    "gpuNum": 0,
    "hideHardwareSpecs": false,
    "memoryGiB": 384,
    "name": "ml.m5d.24xlarge",
    "vcpuNum": 96
   },
   {
    "_defaultOrder": 20,
    "_isFastLaunch": false,
    "category": "General purpose",
    "gpuNum": 0,
    "hideHardwareSpecs": true,
    "memoryGiB": 0,
    "name": "ml.geospatial.interactive",
    "supportedImageNames": [
     "sagemaker-geospatial-v1-0"
    ],
    "vcpuNum": 0
   },
   {
    "_defaultOrder": 21,
    "_isFastLaunch": true,
    "category": "Compute optimized",
    "gpuNum": 0,
    "hideHardwareSpecs": false,
    "memoryGiB": 4,
    "name": "ml.c5.large",
    "vcpuNum": 2
   },
   {
    "_defaultOrder": 22,
    "_isFastLaunch": false,
    "category": "Compute optimized",
    "gpuNum": 0,
    "hideHardwareSpecs": false,
    "memoryGiB": 8,
    "name": "ml.c5.xlarge",
    "vcpuNum": 4
   },
   {
    "_defaultOrder": 23,
    "_isFastLaunch": false,
    "category": "Compute optimized",
    "gpuNum": 0,
    "hideHardwareSpecs": false,
    "memoryGiB": 16,
    "name": "ml.c5.2xlarge",
    "vcpuNum": 8
   },
   {
    "_defaultOrder": 24,
    "_isFastLaunch": false,
    "category": "Compute optimized",
    "gpuNum": 0,
    "hideHardwareSpecs": false,
    "memoryGiB": 32,
    "name": "ml.c5.4xlarge",
    "vcpuNum": 16
   },
   {
    "_defaultOrder": 25,
    "_isFastLaunch": false,
    "category": "Compute optimized",
    "gpuNum": 0,
    "hideHardwareSpecs": false,
    "memoryGiB": 72,
    "name": "ml.c5.9xlarge",
    "vcpuNum": 36
   },
   {
    "_defaultOrder": 26,
    "_isFastLaunch": false,
    "category": "Compute optimized",
    "gpuNum": 0,
    "hideHardwareSpecs": false,
    "memoryGiB": 96,
    "name": "ml.c5.12xlarge",
    "vcpuNum": 48
   },
   {
    "_defaultOrder": 27,
    "_isFastLaunch": false,
    "category": "Compute optimized",
    "gpuNum": 0,
    "hideHardwareSpecs": false,
    "memoryGiB": 144,
    "name": "ml.c5.18xlarge",
    "vcpuNum": 72
   },
   {
    "_defaultOrder": 28,
    "_isFastLaunch": false,
    "category": "Compute optimized",
    "gpuNum": 0,
    "hideHardwareSpecs": false,
    "memoryGiB": 192,
    "name": "ml.c5.24xlarge",
    "vcpuNum": 96
   },
   {
    "_defaultOrder": 29,
    "_isFastLaunch": true,
    "category": "Accelerated computing",
    "gpuNum": 1,
    "hideHardwareSpecs": false,
    "memoryGiB": 16,
    "name": "ml.g4dn.xlarge",
    "vcpuNum": 4
   },
   {
    "_defaultOrder": 30,
    "_isFastLaunch": false,
    "category": "Accelerated computing",
    "gpuNum": 1,
    "hideHardwareSpecs": false,
    "memoryGiB": 32,
    "name": "ml.g4dn.2xlarge",
    "vcpuNum": 8
   },
   {
    "_defaultOrder": 31,
    "_isFastLaunch": false,
    "category": "Accelerated computing",
    "gpuNum": 1,
    "hideHardwareSpecs": false,
    "memoryGiB": 64,
    "name": "ml.g4dn.4xlarge",
    "vcpuNum": 16
   },
   {
    "_defaultOrder": 32,
    "_isFastLaunch": false,
    "category": "Accelerated computing",
    "gpuNum": 1,
    "hideHardwareSpecs": false,
    "memoryGiB": 128,
    "name": "ml.g4dn.8xlarge",
    "vcpuNum": 32
   },
   {
    "_defaultOrder": 33,
    "_isFastLaunch": false,
    "category": "Accelerated computing",
    "gpuNum": 4,
    "hideHardwareSpecs": false,
    "memoryGiB": 192,
    "name": "ml.g4dn.12xlarge",
    "vcpuNum": 48
   },
   {
    "_defaultOrder": 34,
    "_isFastLaunch": false,
    "category": "Accelerated computing",
    "gpuNum": 1,
    "hideHardwareSpecs": false,
    "memoryGiB": 256,
    "name": "ml.g4dn.16xlarge",
    "vcpuNum": 64
   },
   {
    "_defaultOrder": 35,
    "_isFastLaunch": false,
    "category": "Accelerated computing",
    "gpuNum": 1,
    "hideHardwareSpecs": false,
    "memoryGiB": 61,
    "name": "ml.p3.2xlarge",
    "vcpuNum": 8
   },
   {
    "_defaultOrder": 36,
    "_isFastLaunch": false,
    "category": "Accelerated computing",
    "gpuNum": 4,
    "hideHardwareSpecs": false,
    "memoryGiB": 244,
    "name": "ml.p3.8xlarge",
    "vcpuNum": 32
   },
   {
    "_defaultOrder": 37,
    "_isFastLaunch": false,
    "category": "Accelerated computing",
    "gpuNum": 8,
    "hideHardwareSpecs": false,
    "memoryGiB": 488,
    "name": "ml.p3.16xlarge",
    "vcpuNum": 64
   },
   {
    "_defaultOrder": 38,
    "_isFastLaunch": false,
    "category": "Accelerated computing",
    "gpuNum": 8,
    "hideHardwareSpecs": false,
    "memoryGiB": 768,
    "name": "ml.p3dn.24xlarge",
    "vcpuNum": 96
   },
   {
    "_defaultOrder": 39,
    "_isFastLaunch": false,
    "category": "Memory Optimized",
    "gpuNum": 0,
    "hideHardwareSpecs": false,
    "memoryGiB": 16,
    "name": "ml.r5.large",
    "vcpuNum": 2
   },
   {
    "_defaultOrder": 40,
    "_isFastLaunch": false,
    "category": "Memory Optimized",
    "gpuNum": 0,
    "hideHardwareSpecs": false,
    "memoryGiB": 32,
    "name": "ml.r5.xlarge",
    "vcpuNum": 4
   },
   {
    "_defaultOrder": 41,
    "_isFastLaunch": false,
    "category": "Memory Optimized",
    "gpuNum": 0,
    "hideHardwareSpecs": false,
    "memoryGiB": 64,
    "name": "ml.r5.2xlarge",
    "vcpuNum": 8
   },
   {
    "_defaultOrder": 42,
    "_isFastLaunch": false,
    "category": "Memory Optimized",
    "gpuNum": 0,
    "hideHardwareSpecs": false,
    "memoryGiB": 128,
    "name": "ml.r5.4xlarge",
    "vcpuNum": 16
   },
   {
    "_defaultOrder": 43,
    "_isFastLaunch": false,
    "category": "Memory Optimized",
    "gpuNum": 0,
    "hideHardwareSpecs": false,
    "memoryGiB": 256,
    "name": "ml.r5.8xlarge",
    "vcpuNum": 32
   },
   {
    "_defaultOrder": 44,
    "_isFastLaunch": false,
    "category": "Memory Optimized",
    "gpuNum": 0,
    "hideHardwareSpecs": false,
    "memoryGiB": 384,
    "name": "ml.r5.12xlarge",
    "vcpuNum": 48
   },
   {
    "_defaultOrder": 45,
    "_isFastLaunch": false,
    "category": "Memory Optimized",
    "gpuNum": 0,
    "hideHardwareSpecs": false,
    "memoryGiB": 512,
    "name": "ml.r5.16xlarge",
    "vcpuNum": 64
   },
   {
    "_defaultOrder": 46,
    "_isFastLaunch": false,
    "category": "Memory Optimized",
    "gpuNum": 0,
    "hideHardwareSpecs": false,
    "memoryGiB": 768,
    "name": "ml.r5.24xlarge",
    "vcpuNum": 96
   },
   {
    "_defaultOrder": 47,
    "_isFastLaunch": false,
    "category": "Accelerated computing",
    "gpuNum": 1,
    "hideHardwareSpecs": false,
    "memoryGiB": 16,
    "name": "ml.g5.xlarge",
    "vcpuNum": 4
   },
   {
    "_defaultOrder": 48,
    "_isFastLaunch": false,
    "category": "Accelerated computing",
    "gpuNum": 1,
    "hideHardwareSpecs": false,
    "memoryGiB": 32,
    "name": "ml.g5.2xlarge",
    "vcpuNum": 8
   },
   {
    "_defaultOrder": 49,
    "_isFastLaunch": false,
    "category": "Accelerated computing",
    "gpuNum": 1,
    "hideHardwareSpecs": false,
    "memoryGiB": 64,
    "name": "ml.g5.4xlarge",
    "vcpuNum": 16
   },
   {
    "_defaultOrder": 50,
    "_isFastLaunch": false,
    "category": "Accelerated computing",
    "gpuNum": 1,
    "hideHardwareSpecs": false,
    "memoryGiB": 128,
    "name": "ml.g5.8xlarge",
    "vcpuNum": 32
   },
   {
    "_defaultOrder": 51,
    "_isFastLaunch": false,
    "category": "Accelerated computing",
    "gpuNum": 1,
    "hideHardwareSpecs": false,
    "memoryGiB": 256,
    "name": "ml.g5.16xlarge",
    "vcpuNum": 64
   },
   {
    "_defaultOrder": 52,
    "_isFastLaunch": false,
    "category": "Accelerated computing",
    "gpuNum": 4,
    "hideHardwareSpecs": false,
    "memoryGiB": 192,
    "name": "ml.g5.12xlarge",
    "vcpuNum": 48
   },
   {
    "_defaultOrder": 53,
    "_isFastLaunch": false,
    "category": "Accelerated computing",
    "gpuNum": 4,
    "hideHardwareSpecs": false,
    "memoryGiB": 384,
    "name": "ml.g5.24xlarge",
    "vcpuNum": 96
   },
   {
    "_defaultOrder": 54,
    "_isFastLaunch": false,
    "category": "Accelerated computing",
    "gpuNum": 8,
    "hideHardwareSpecs": false,
    "memoryGiB": 768,
    "name": "ml.g5.48xlarge",
    "vcpuNum": 192
   },
   {
    "_defaultOrder": 55,
    "_isFastLaunch": false,
    "category": "Accelerated computing",
    "gpuNum": 8,
    "hideHardwareSpecs": false,
    "memoryGiB": 1152,
    "name": "ml.p4d.24xlarge",
    "vcpuNum": 96
   },
   {
    "_defaultOrder": 56,
    "_isFastLaunch": false,
    "category": "Accelerated computing",
    "gpuNum": 8,
    "hideHardwareSpecs": false,
    "memoryGiB": 1152,
    "name": "ml.p4de.24xlarge",
    "vcpuNum": 96
   }
  ],
  "instance_type": "ml.t3.2xlarge",
  "kernelspec": {
   "display_name": "aws-demo",
   "language": "python",
   "name": "python3"
  },
  "language_info": {
   "codemirror_mode": {
    "name": "ipython",
    "version": 3
   },
   "file_extension": ".py",
   "mimetype": "text/x-python",
   "name": "python",
   "nbconvert_exporter": "python",
   "pygments_lexer": "ipython3",
   "version": "3.10.9"
  }
 },
 "nbformat": 4,
 "nbformat_minor": 5
}
